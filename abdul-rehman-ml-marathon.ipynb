{
 "cells": [
  {
   "cell_type": "markdown",
   "metadata": {
    "_cell_guid": "b1076dfc-b9ad-4769-8c92-a6c4dae69d19",
    "_uuid": "8f2839f25d086af736a60e9eeb907d3b93b6e0e5"
   },
   "source": [
    "# ML Marathon\n",
    "## Problem Definition\n",
    "The `data` is related to direct marketing campaigns of a financial institution.The marketing\n",
    "campaigns were based on phone calls. Often, more than one contact to the same client was\n",
    "required, in order to assess if the product (bank term deposit) would be ('yes') or not ('no')\n",
    "subscribed. You will have to analyze the dataset in order to find ways to look for future\n",
    "strategies in order to improve future marketing campaigns for the bank.\n",
    "## Data \n",
    "provided by reskill_l: reskilll.com/hack/mlmarathon\n",
    "## Evaluation\n",
    "1. Precision\n",
    "2. Recall\n",
    "3. F1 Score\n",
    "## Features\n",
    "1. age (numeric)\n",
    "2. - job : type of job (categorical:\n",
    "'admin.','blue-collar','entrepreneur','housemaid','management','retired','self-employed','services','\n",
    "student','technician','unemployed','unknown')\n",
    "3. - marital : marital status (categorical: 'divorced','married','single','unknown'; note: 'divorced'\n",
    "means divorced or widowed)\n",
    "4. - education (categorical:\n",
    "'basic.4y','basic.6y','basic.9y','high.school','illiterate','professional.course','university.degree','unk\n",
    "nown')\n",
    "5. - default: has credit in default? (categorical: 'no','yes','unknown')\n",
    "6. - balance:\n",
    "7. - housing: has housing loan? (categorical: 'no','yes','unknown')\n",
    "8. - loan: has personal loan? (categorical: 'no','yes','unknown')\n",
    "\n",
    "#### related with the last contact of the current campaign:\n",
    "9. - contact: contact communication type (categorical: 'cellular','telephone')\n",
    "10. - month: last contact month of year (categorical: 'jan', 'feb', 'mar', ..., 'nov', 'dec')\n",
    "11. - day: last contact day of the week (categorical: 'mon','tue','wed','thu','fri')\n",
    "12. - duration: last contact duration, in seconds (numeric). Important note: this attribute highly affects the output target (e.g., if duration=0 then y='no'). Yet, the duration is not known before a call is performed. Also, after the end of the call y is obviously known. Thus, this input should only be included for benchmark purposes and should be discarded if the intention is to have a realistic predictive model.\n",
    "#### other attributes:\n",
    "13. - campaign: number of contacts performed during this campaign and for this client (numeric, includes last contact)\n",
    "14. - pdays: number of days that passed by after the client was last contacted from a previous campaign (numeric; 999 means client was not previously contacted)\n",
    "15. - previous: number of contacts performed before this campaign and for this client (numeric)\n",
    "16. - poutcome: outcome of the previous marketing campaign (categorical: 'failure','nonexistent','success')\n",
    "## Output variable (desired target):\n",
    "17. - deposit - has the client subscribed a term deposit? (binary: 'yes','no')"
   ]
  },
  {
   "cell_type": "code",
   "execution_count": 2,
   "metadata": {
    "execution": {
     "iopub.execute_input": "2022-10-09T23:27:36.143172Z",
     "iopub.status.busy": "2022-10-09T23:27:36.142807Z",
     "iopub.status.idle": "2022-10-09T23:27:36.453829Z",
     "shell.execute_reply": "2022-10-09T23:27:36.452900Z",
     "shell.execute_reply.started": "2022-10-09T23:27:36.143143Z"
    }
   },
   "outputs": [],
   "source": [
    "#import some important libraries\n",
    "import pandas as pd\n",
    "import numpy as np\n",
    "import matplotlib.pyplot as plt\n",
    "import seaborn as sns\n",
    "import missingno as miss"
   ]
  },
  {
   "cell_type": "code",
   "execution_count": 3,
   "metadata": {
    "execution": {
     "iopub.execute_input": "2022-10-09T23:27:36.456978Z",
     "iopub.status.busy": "2022-10-09T23:27:36.455509Z",
     "iopub.status.idle": "2022-10-09T23:27:36.462476Z",
     "shell.execute_reply": "2022-10-09T23:27:36.460636Z",
     "shell.execute_reply.started": "2022-10-09T23:27:36.456939Z"
    }
   },
   "outputs": [],
   "source": [
    "import warnings\n",
    "warnings.filterwarnings(\"ignore\", category=FutureWarning)"
   ]
  },
  {
   "cell_type": "code",
   "execution_count": 4,
   "metadata": {
    "execution": {
     "iopub.execute_input": "2022-10-09T23:27:36.764940Z",
     "iopub.status.busy": "2022-10-09T23:27:36.764157Z",
     "iopub.status.idle": "2022-10-09T23:27:36.823606Z",
     "shell.execute_reply": "2022-10-09T23:27:36.822625Z",
     "shell.execute_reply.started": "2022-10-09T23:27:36.764903Z"
    }
   },
   "outputs": [
    {
     "data": {
      "text/html": [
       "<div>\n",
       "<style scoped>\n",
       "    .dataframe tbody tr th:only-of-type {\n",
       "        vertical-align: middle;\n",
       "    }\n",
       "\n",
       "    .dataframe tbody tr th {\n",
       "        vertical-align: top;\n",
       "    }\n",
       "\n",
       "    .dataframe thead th {\n",
       "        text-align: right;\n",
       "    }\n",
       "</style>\n",
       "<table border=\"1\" class=\"dataframe\">\n",
       "  <thead>\n",
       "    <tr style=\"text-align: right;\">\n",
       "      <th></th>\n",
       "      <th>age</th>\n",
       "      <th>job</th>\n",
       "      <th>marital</th>\n",
       "      <th>education</th>\n",
       "      <th>default</th>\n",
       "      <th>balance</th>\n",
       "      <th>housing</th>\n",
       "      <th>loan</th>\n",
       "      <th>contact</th>\n",
       "      <th>day</th>\n",
       "      <th>month</th>\n",
       "      <th>duration</th>\n",
       "      <th>campaign</th>\n",
       "      <th>pdays</th>\n",
       "      <th>previous</th>\n",
       "      <th>poutcome</th>\n",
       "      <th>deposit</th>\n",
       "    </tr>\n",
       "  </thead>\n",
       "  <tbody>\n",
       "    <tr>\n",
       "      <th>0</th>\n",
       "      <td>38</td>\n",
       "      <td>technician</td>\n",
       "      <td>married</td>\n",
       "      <td>tertiary</td>\n",
       "      <td>no</td>\n",
       "      <td>127</td>\n",
       "      <td>yes</td>\n",
       "      <td>no</td>\n",
       "      <td>cellular</td>\n",
       "      <td>14</td>\n",
       "      <td>oct</td>\n",
       "      <td>113</td>\n",
       "      <td>1</td>\n",
       "      <td>50</td>\n",
       "      <td>2</td>\n",
       "      <td>success</td>\n",
       "      <td>no</td>\n",
       "    </tr>\n",
       "    <tr>\n",
       "      <th>1</th>\n",
       "      <td>41</td>\n",
       "      <td>housemaid</td>\n",
       "      <td>married</td>\n",
       "      <td>primary</td>\n",
       "      <td>no</td>\n",
       "      <td>365</td>\n",
       "      <td>no</td>\n",
       "      <td>no</td>\n",
       "      <td>cellular</td>\n",
       "      <td>8</td>\n",
       "      <td>aug</td>\n",
       "      <td>203</td>\n",
       "      <td>5</td>\n",
       "      <td>-1</td>\n",
       "      <td>0</td>\n",
       "      <td>unknown</td>\n",
       "      <td>no</td>\n",
       "    </tr>\n",
       "    <tr>\n",
       "      <th>2</th>\n",
       "      <td>39</td>\n",
       "      <td>management</td>\n",
       "      <td>single</td>\n",
       "      <td>tertiary</td>\n",
       "      <td>no</td>\n",
       "      <td>2454</td>\n",
       "      <td>yes</td>\n",
       "      <td>no</td>\n",
       "      <td>cellular</td>\n",
       "      <td>4</td>\n",
       "      <td>may</td>\n",
       "      <td>716</td>\n",
       "      <td>3</td>\n",
       "      <td>263</td>\n",
       "      <td>2</td>\n",
       "      <td>failure</td>\n",
       "      <td>yes</td>\n",
       "    </tr>\n",
       "    <tr>\n",
       "      <th>3</th>\n",
       "      <td>49</td>\n",
       "      <td>blue-collar</td>\n",
       "      <td>married</td>\n",
       "      <td>primary</td>\n",
       "      <td>no</td>\n",
       "      <td>6215</td>\n",
       "      <td>yes</td>\n",
       "      <td>no</td>\n",
       "      <td>cellular</td>\n",
       "      <td>11</td>\n",
       "      <td>may</td>\n",
       "      <td>549</td>\n",
       "      <td>1</td>\n",
       "      <td>-1</td>\n",
       "      <td>0</td>\n",
       "      <td>unknown</td>\n",
       "      <td>no</td>\n",
       "    </tr>\n",
       "    <tr>\n",
       "      <th>4</th>\n",
       "      <td>37</td>\n",
       "      <td>services</td>\n",
       "      <td>married</td>\n",
       "      <td>secondary</td>\n",
       "      <td>no</td>\n",
       "      <td>1694</td>\n",
       "      <td>yes</td>\n",
       "      <td>yes</td>\n",
       "      <td>cellular</td>\n",
       "      <td>29</td>\n",
       "      <td>jan</td>\n",
       "      <td>404</td>\n",
       "      <td>2</td>\n",
       "      <td>251</td>\n",
       "      <td>6</td>\n",
       "      <td>failure</td>\n",
       "      <td>no</td>\n",
       "    </tr>\n",
       "  </tbody>\n",
       "</table>\n",
       "</div>"
      ],
      "text/plain": [
       "   age          job  marital  education default  balance housing loan  \\\n",
       "0   38   technician  married   tertiary      no      127     yes   no   \n",
       "1   41    housemaid  married    primary      no      365      no   no   \n",
       "2   39   management   single   tertiary      no     2454     yes   no   \n",
       "3   49  blue-collar  married    primary      no     6215     yes   no   \n",
       "4   37     services  married  secondary      no     1694     yes  yes   \n",
       "\n",
       "    contact  day month  duration  campaign  pdays  previous poutcome deposit  \n",
       "0  cellular   14   oct       113         1     50         2  success      no  \n",
       "1  cellular    8   aug       203         5     -1         0  unknown      no  \n",
       "2  cellular    4   may       716         3    263         2  failure     yes  \n",
       "3  cellular   11   may       549         1     -1         0  unknown      no  \n",
       "4  cellular   29   jan       404         2    251         6  failure      no  "
      ]
     },
     "execution_count": 4,
     "metadata": {},
     "output_type": "execute_result"
    }
   ],
   "source": [
    "#Lets import Dataset\n",
    "df=pd.read_csv(\"../input/ml-marathon/data.csv\")\n",
    "df.head()"
   ]
  },
  {
   "cell_type": "code",
   "execution_count": 5,
   "metadata": {
    "execution": {
     "iopub.execute_input": "2022-10-09T23:27:36.982516Z",
     "iopub.status.busy": "2022-10-09T23:27:36.982225Z",
     "iopub.status.idle": "2022-10-09T23:27:36.994783Z",
     "shell.execute_reply": "2022-10-09T23:27:36.993762Z",
     "shell.execute_reply.started": "2022-10-09T23:27:36.982485Z"
    }
   },
   "outputs": [
    {
     "data": {
      "text/plain": [
       "age          0\n",
       "job          0\n",
       "marital      0\n",
       "education    0\n",
       "default      0\n",
       "balance      0\n",
       "housing      0\n",
       "loan         0\n",
       "contact      0\n",
       "day          0\n",
       "month        0\n",
       "duration     0\n",
       "campaign     0\n",
       "pdays        0\n",
       "previous     0\n",
       "poutcome     0\n",
       "deposit      0\n",
       "dtype: int64"
      ]
     },
     "execution_count": 5,
     "metadata": {},
     "output_type": "execute_result"
    }
   ],
   "source": [
    "#Lets check some statistic\n",
    "df.isna().sum()"
   ]
  },
  {
   "cell_type": "markdown",
   "metadata": {
    "execution": {
     "iopub.execute_input": "2022-10-09T20:24:47.727033Z",
     "iopub.status.busy": "2022-10-09T20:24:47.726627Z",
     "iopub.status.idle": "2022-10-09T20:24:47.735615Z",
     "shell.execute_reply": "2022-10-09T20:24:47.733700Z",
     "shell.execute_reply.started": "2022-10-09T20:24:47.727001Z"
    }
   },
   "source": [
    "**NO NULL values**"
   ]
  },
  {
   "cell_type": "code",
   "execution_count": 6,
   "metadata": {
    "execution": {
     "iopub.execute_input": "2022-10-09T23:27:37.318785Z",
     "iopub.status.busy": "2022-10-09T23:27:37.318416Z",
     "iopub.status.idle": "2022-10-09T23:27:37.361194Z",
     "shell.execute_reply": "2022-10-09T23:27:37.360144Z",
     "shell.execute_reply.started": "2022-10-09T23:27:37.318750Z"
    }
   },
   "outputs": [
    {
     "data": {
      "text/html": [
       "<div>\n",
       "<style scoped>\n",
       "    .dataframe tbody tr th:only-of-type {\n",
       "        vertical-align: middle;\n",
       "    }\n",
       "\n",
       "    .dataframe tbody tr th {\n",
       "        vertical-align: top;\n",
       "    }\n",
       "\n",
       "    .dataframe thead th {\n",
       "        text-align: right;\n",
       "    }\n",
       "</style>\n",
       "<table border=\"1\" class=\"dataframe\">\n",
       "  <thead>\n",
       "    <tr style=\"text-align: right;\">\n",
       "      <th></th>\n",
       "      <th>age</th>\n",
       "      <th>balance</th>\n",
       "      <th>day</th>\n",
       "      <th>duration</th>\n",
       "      <th>campaign</th>\n",
       "      <th>pdays</th>\n",
       "      <th>previous</th>\n",
       "    </tr>\n",
       "  </thead>\n",
       "  <tbody>\n",
       "    <tr>\n",
       "      <th>count</th>\n",
       "      <td>8371.000000</td>\n",
       "      <td>8371.000000</td>\n",
       "      <td>8371.000000</td>\n",
       "      <td>8371.000000</td>\n",
       "      <td>8371.000000</td>\n",
       "      <td>8371.000000</td>\n",
       "      <td>8371.000000</td>\n",
       "    </tr>\n",
       "    <tr>\n",
       "      <th>mean</th>\n",
       "      <td>41.197467</td>\n",
       "      <td>1517.811134</td>\n",
       "      <td>15.588460</td>\n",
       "      <td>372.898698</td>\n",
       "      <td>2.512603</td>\n",
       "      <td>49.911958</td>\n",
       "      <td>0.823677</td>\n",
       "    </tr>\n",
       "    <tr>\n",
       "      <th>std</th>\n",
       "      <td>11.809300</td>\n",
       "      <td>3225.312218</td>\n",
       "      <td>8.406768</td>\n",
       "      <td>346.706743</td>\n",
       "      <td>2.734037</td>\n",
       "      <td>107.308417</td>\n",
       "      <td>2.315285</td>\n",
       "    </tr>\n",
       "    <tr>\n",
       "      <th>min</th>\n",
       "      <td>18.000000</td>\n",
       "      <td>-3058.000000</td>\n",
       "      <td>1.000000</td>\n",
       "      <td>2.000000</td>\n",
       "      <td>1.000000</td>\n",
       "      <td>-1.000000</td>\n",
       "      <td>0.000000</td>\n",
       "    </tr>\n",
       "    <tr>\n",
       "      <th>25%</th>\n",
       "      <td>32.000000</td>\n",
       "      <td>116.000000</td>\n",
       "      <td>8.000000</td>\n",
       "      <td>137.000000</td>\n",
       "      <td>1.000000</td>\n",
       "      <td>-1.000000</td>\n",
       "      <td>0.000000</td>\n",
       "    </tr>\n",
       "    <tr>\n",
       "      <th>50%</th>\n",
       "      <td>39.000000</td>\n",
       "      <td>532.000000</td>\n",
       "      <td>15.000000</td>\n",
       "      <td>255.000000</td>\n",
       "      <td>2.000000</td>\n",
       "      <td>-1.000000</td>\n",
       "      <td>0.000000</td>\n",
       "    </tr>\n",
       "    <tr>\n",
       "      <th>75%</th>\n",
       "      <td>49.000000</td>\n",
       "      <td>1694.000000</td>\n",
       "      <td>21.000000</td>\n",
       "      <td>504.000000</td>\n",
       "      <td>3.000000</td>\n",
       "      <td>2.000000</td>\n",
       "      <td>1.000000</td>\n",
       "    </tr>\n",
       "    <tr>\n",
       "      <th>max</th>\n",
       "      <td>95.000000</td>\n",
       "      <td>81204.000000</td>\n",
       "      <td>31.000000</td>\n",
       "      <td>3284.000000</td>\n",
       "      <td>63.000000</td>\n",
       "      <td>854.000000</td>\n",
       "      <td>58.000000</td>\n",
       "    </tr>\n",
       "  </tbody>\n",
       "</table>\n",
       "</div>"
      ],
      "text/plain": [
       "               age       balance          day     duration     campaign  \\\n",
       "count  8371.000000   8371.000000  8371.000000  8371.000000  8371.000000   \n",
       "mean     41.197467   1517.811134    15.588460   372.898698     2.512603   \n",
       "std      11.809300   3225.312218     8.406768   346.706743     2.734037   \n",
       "min      18.000000  -3058.000000     1.000000     2.000000     1.000000   \n",
       "25%      32.000000    116.000000     8.000000   137.000000     1.000000   \n",
       "50%      39.000000    532.000000    15.000000   255.000000     2.000000   \n",
       "75%      49.000000   1694.000000    21.000000   504.000000     3.000000   \n",
       "max      95.000000  81204.000000    31.000000  3284.000000    63.000000   \n",
       "\n",
       "             pdays     previous  \n",
       "count  8371.000000  8371.000000  \n",
       "mean     49.911958     0.823677  \n",
       "std     107.308417     2.315285  \n",
       "min      -1.000000     0.000000  \n",
       "25%      -1.000000     0.000000  \n",
       "50%      -1.000000     0.000000  \n",
       "75%       2.000000     1.000000  \n",
       "max     854.000000    58.000000  "
      ]
     },
     "execution_count": 6,
     "metadata": {},
     "output_type": "execute_result"
    }
   ],
   "source": [
    "df.describe()"
   ]
  },
  {
   "cell_type": "code",
   "execution_count": 7,
   "metadata": {
    "execution": {
     "iopub.execute_input": "2022-10-09T23:27:37.642214Z",
     "iopub.status.busy": "2022-10-09T23:27:37.641899Z",
     "iopub.status.idle": "2022-10-09T23:27:37.662876Z",
     "shell.execute_reply": "2022-10-09T23:27:37.661795Z",
     "shell.execute_reply.started": "2022-10-09T23:27:37.642187Z"
    }
   },
   "outputs": [
    {
     "name": "stdout",
     "output_type": "stream",
     "text": [
      "<class 'pandas.core.frame.DataFrame'>\n",
      "RangeIndex: 8371 entries, 0 to 8370\n",
      "Data columns (total 17 columns):\n",
      " #   Column     Non-Null Count  Dtype \n",
      "---  ------     --------------  ----- \n",
      " 0   age        8371 non-null   int64 \n",
      " 1   job        8371 non-null   object\n",
      " 2   marital    8371 non-null   object\n",
      " 3   education  8371 non-null   object\n",
      " 4   default    8371 non-null   object\n",
      " 5   balance    8371 non-null   int64 \n",
      " 6   housing    8371 non-null   object\n",
      " 7   loan       8371 non-null   object\n",
      " 8   contact    8371 non-null   object\n",
      " 9   day        8371 non-null   int64 \n",
      " 10  month      8371 non-null   object\n",
      " 11  duration   8371 non-null   int64 \n",
      " 12  campaign   8371 non-null   int64 \n",
      " 13  pdays      8371 non-null   int64 \n",
      " 14  previous   8371 non-null   int64 \n",
      " 15  poutcome   8371 non-null   object\n",
      " 16  deposit    8371 non-null   object\n",
      "dtypes: int64(7), object(10)\n",
      "memory usage: 1.1+ MB\n"
     ]
    }
   ],
   "source": [
    "df.info()"
   ]
  },
  {
   "cell_type": "code",
   "execution_count": 8,
   "metadata": {
    "execution": {
     "iopub.execute_input": "2022-10-09T23:27:37.734624Z",
     "iopub.status.busy": "2022-10-09T23:27:37.734350Z",
     "iopub.status.idle": "2022-10-09T23:27:38.410205Z",
     "shell.execute_reply": "2022-10-09T23:27:38.409134Z",
     "shell.execute_reply.started": "2022-10-09T23:27:37.734600Z"
    }
   },
   "outputs": [
    {
     "data": {
      "image/png": "[encoded data removed]",
      "text/plain": [
       "<Figure size 1080x360 with 1 Axes>"
      ]
     },
     "metadata": {
      "needs_background": "light"
     },
     "output_type": "display_data"
    },
    {
     "data": {
      "image/png": "[encoded data removed]",
      "text/plain": [
       "<Figure size 360x360 with 1 Axes>"
      ]
     },
     "metadata": {
      "needs_background": "light"
     },
     "output_type": "display_data"
    }
   ],
   "source": [
    "#lets explore data\n",
    "deposites=df[df['deposit']=='yes']\n",
    "deposite_per_job=deposites.groupby('job').agg({\"deposit\":\"count\"})\n",
    "job_balance=deposites.groupby('job').agg({'balance':\"sum\"})\n",
    "job_balance=job_balance.merge(deposite_per_job,on='job')\n",
    "job_balance=job_balance.sort_values(by='deposit')\n",
    "plt.figure(figsize=(15,5))\n",
    "ax=sns.barplot(data=job_balance, x=job_balance.index, y=\"balance\")\n",
    "ax.bar_label(ax.containers[0])\n",
    "sns.lmplot(x=\"deposit\", y=\"balance\", data=job_balance)\n",
    "plt.show()"
   ]
  },
  {
   "cell_type": "markdown",
   "metadata": {},
   "source": [
    "**As the balance increases(depending upon job) chance for deposite also increase. As it can be observed by the trend line that (ignoring unknown) lowest balance is for housemaid so the no of deposit from housemaid is also low and similarly the maximum balance is for management and maximum deposit is from this sector**"
   ]
  },
  {
   "cell_type": "code",
   "execution_count": 9,
   "metadata": {
    "execution": {
     "iopub.execute_input": "2022-10-09T23:27:38.412664Z",
     "iopub.status.busy": "2022-10-09T23:27:38.412219Z",
     "iopub.status.idle": "2022-10-09T23:27:38.626713Z",
     "shell.execute_reply": "2022-10-09T23:27:38.625337Z",
     "shell.execute_reply.started": "2022-10-09T23:27:38.412627Z"
    }
   },
   "outputs": [
    {
     "data": {
      "image/png": "[encoded data removed]",
      "text/plain": [
       "<Figure size 432x288 with 1 Axes>"
      ]
     },
     "metadata": {},
     "output_type": "display_data"
    }
   ],
   "source": [
    "plt.pie(df['deposit'].value_counts(),autopct=\"%1.1f%%\",explode=[0.1,0],shadow=True,labels=['yes','no'],colors=['gray','lightyellow'],textprops={'color':\"black\"});\n",
    "plt.legend();"
   ]
  },
  {
   "cell_type": "markdown",
   "metadata": {},
   "source": [
    "**We came to know that there is not much imbalancement in dataset Hence there is requirement of over_Sampling or under_sampling**"
   ]
  },
  {
   "cell_type": "code",
   "execution_count": 10,
   "metadata": {
    "execution": {
     "iopub.execute_input": "2022-10-09T23:27:38.632474Z",
     "iopub.status.busy": "2022-10-09T23:27:38.628695Z",
     "iopub.status.idle": "2022-10-09T23:27:38.856686Z",
     "shell.execute_reply": "2022-10-09T23:27:38.856056Z",
     "shell.execute_reply.started": "2022-10-09T23:27:38.632417Z"
    }
   },
   "outputs": [
    {
     "data": {
      "image/png": "[encoded data removed]",
      "text/plain": [
       "<Figure size 432x288 with 1 Axes>"
      ]
     },
     "metadata": {
      "needs_background": "light"
     },
     "output_type": "display_data"
    }
   ],
   "source": [
    "deposites['education'].value_counts().plot();\n",
    "plt.xlabel(\"Education Level\")\n",
    "plt.ylabel(\"Number of deposits\")\n",
    "plt.title(\"How Level of eduction Effect # of deposits\")\n",
    "plt.show()"
   ]
  },
  {
   "cell_type": "markdown",
   "metadata": {},
   "source": [
    "**Up till now we have found that** \n",
    "1. More balance more chances of deposits\n",
    "2. People with Secondary Level Education show more interest in deposits\n",
    "#### Now lets check which age group takes interest in deposits"
   ]
  },
  {
   "cell_type": "code",
   "execution_count": 11,
   "metadata": {
    "execution": {
     "iopub.execute_input": "2022-10-09T23:27:39.175474Z",
     "iopub.status.busy": "2022-10-09T23:27:39.174783Z",
     "iopub.status.idle": "2022-10-09T23:27:39.601657Z",
     "shell.execute_reply": "2022-10-09T23:27:39.600661Z",
     "shell.execute_reply.started": "2022-10-09T23:27:39.175421Z"
    }
   },
   "outputs": [
    {
     "data": {
      "image/png": "[encoded data removed]",
      "text/plain": [
       "<Figure size 720x360 with 1 Axes>"
      ]
     },
     "metadata": {
      "needs_background": "light"
     },
     "output_type": "display_data"
    }
   ],
   "source": [
    "plt.figure(figsize=(10,5))\n",
    "deposites['age'].hist()\n",
    "plt.xlim(10,100);\n",
    "plt.xlabel(\"Age Group\")\n",
    "plt.ylabel(\"# of Deposits\")\n",
    "plt.title(\"Age group and level of Interest in deposit\");"
   ]
  },
  {
   "cell_type": "markdown",
   "metadata": {
    "execution": {
     "iopub.execute_input": "2022-10-09T21:49:02.067557Z",
     "iopub.status.busy": "2022-10-09T21:49:02.066439Z",
     "iopub.status.idle": "2022-10-09T21:49:02.075396Z",
     "shell.execute_reply": "2022-10-09T21:49:02.074181Z",
     "shell.execute_reply.started": "2022-10-09T21:49:02.067510Z"
    }
   },
   "source": [
    "**Up till now we have found that** \n",
    "1. More balance more chances of deposits\n",
    "2. People with Secondary Level Education show more interest in deposits\n",
    "3. It is clear that age group between 25 - 35\n",
    "#### Lets try to check all other relationship using correlations"
   ]
  },
  {
   "cell_type": "code",
   "execution_count": 12,
   "metadata": {
    "execution": {
     "iopub.execute_input": "2022-10-09T23:27:40.260605Z",
     "iopub.status.busy": "2022-10-09T23:27:40.259518Z",
     "iopub.status.idle": "2022-10-09T23:27:40.267168Z",
     "shell.execute_reply": "2022-10-09T23:27:40.266125Z",
     "shell.execute_reply.started": "2022-10-09T23:27:40.260560Z"
    }
   },
   "outputs": [
    {
     "data": {
      "text/plain": [
       "8371"
      ]
     },
     "execution_count": 12,
     "metadata": {},
     "output_type": "execute_result"
    }
   ],
   "source": [
    "data_length=len(df)\n",
    "data_length"
   ]
  },
  {
   "cell_type": "code",
   "execution_count": 13,
   "metadata": {
    "execution": {
     "iopub.execute_input": "2022-10-09T23:27:41.339189Z",
     "iopub.status.busy": "2022-10-09T23:27:41.338828Z",
     "iopub.status.idle": "2022-10-09T23:27:41.357991Z",
     "shell.execute_reply": "2022-10-09T23:27:41.356958Z",
     "shell.execute_reply.started": "2022-10-09T23:27:41.339161Z"
    }
   },
   "outputs": [
    {
     "data": {
      "text/html": [
       "<div>\n",
       "<style scoped>\n",
       "    .dataframe tbody tr th:only-of-type {\n",
       "        vertical-align: middle;\n",
       "    }\n",
       "\n",
       "    .dataframe tbody tr th {\n",
       "        vertical-align: top;\n",
       "    }\n",
       "\n",
       "    .dataframe thead th {\n",
       "        text-align: right;\n",
       "    }\n",
       "</style>\n",
       "<table border=\"1\" class=\"dataframe\">\n",
       "  <thead>\n",
       "    <tr style=\"text-align: right;\">\n",
       "      <th></th>\n",
       "      <th>age</th>\n",
       "      <th>job</th>\n",
       "      <th>marital</th>\n",
       "      <th>education</th>\n",
       "      <th>default</th>\n",
       "      <th>balance</th>\n",
       "      <th>housing</th>\n",
       "      <th>loan</th>\n",
       "      <th>contact</th>\n",
       "      <th>day</th>\n",
       "      <th>month</th>\n",
       "      <th>duration</th>\n",
       "      <th>campaign</th>\n",
       "      <th>pdays</th>\n",
       "      <th>previous</th>\n",
       "      <th>poutcome</th>\n",
       "      <th>deposit</th>\n",
       "    </tr>\n",
       "  </thead>\n",
       "  <tbody>\n",
       "    <tr>\n",
       "      <th>0</th>\n",
       "      <td>38</td>\n",
       "      <td>technician</td>\n",
       "      <td>married</td>\n",
       "      <td>tertiary</td>\n",
       "      <td>no</td>\n",
       "      <td>127</td>\n",
       "      <td>yes</td>\n",
       "      <td>no</td>\n",
       "      <td>cellular</td>\n",
       "      <td>14</td>\n",
       "      <td>oct</td>\n",
       "      <td>113</td>\n",
       "      <td>1</td>\n",
       "      <td>50</td>\n",
       "      <td>2</td>\n",
       "      <td>success</td>\n",
       "      <td>no</td>\n",
       "    </tr>\n",
       "    <tr>\n",
       "      <th>1</th>\n",
       "      <td>41</td>\n",
       "      <td>housemaid</td>\n",
       "      <td>married</td>\n",
       "      <td>primary</td>\n",
       "      <td>no</td>\n",
       "      <td>365</td>\n",
       "      <td>no</td>\n",
       "      <td>no</td>\n",
       "      <td>cellular</td>\n",
       "      <td>8</td>\n",
       "      <td>aug</td>\n",
       "      <td>203</td>\n",
       "      <td>5</td>\n",
       "      <td>-1</td>\n",
       "      <td>0</td>\n",
       "      <td>unknown</td>\n",
       "      <td>no</td>\n",
       "    </tr>\n",
       "    <tr>\n",
       "      <th>2</th>\n",
       "      <td>39</td>\n",
       "      <td>management</td>\n",
       "      <td>single</td>\n",
       "      <td>tertiary</td>\n",
       "      <td>no</td>\n",
       "      <td>2454</td>\n",
       "      <td>yes</td>\n",
       "      <td>no</td>\n",
       "      <td>cellular</td>\n",
       "      <td>4</td>\n",
       "      <td>may</td>\n",
       "      <td>716</td>\n",
       "      <td>3</td>\n",
       "      <td>263</td>\n",
       "      <td>2</td>\n",
       "      <td>failure</td>\n",
       "      <td>yes</td>\n",
       "    </tr>\n",
       "    <tr>\n",
       "      <th>3</th>\n",
       "      <td>49</td>\n",
       "      <td>blue-collar</td>\n",
       "      <td>married</td>\n",
       "      <td>primary</td>\n",
       "      <td>no</td>\n",
       "      <td>6215</td>\n",
       "      <td>yes</td>\n",
       "      <td>no</td>\n",
       "      <td>cellular</td>\n",
       "      <td>11</td>\n",
       "      <td>may</td>\n",
       "      <td>549</td>\n",
       "      <td>1</td>\n",
       "      <td>-1</td>\n",
       "      <td>0</td>\n",
       "      <td>unknown</td>\n",
       "      <td>no</td>\n",
       "    </tr>\n",
       "    <tr>\n",
       "      <th>4</th>\n",
       "      <td>37</td>\n",
       "      <td>services</td>\n",
       "      <td>married</td>\n",
       "      <td>secondary</td>\n",
       "      <td>no</td>\n",
       "      <td>1694</td>\n",
       "      <td>yes</td>\n",
       "      <td>yes</td>\n",
       "      <td>cellular</td>\n",
       "      <td>29</td>\n",
       "      <td>jan</td>\n",
       "      <td>404</td>\n",
       "      <td>2</td>\n",
       "      <td>251</td>\n",
       "      <td>6</td>\n",
       "      <td>failure</td>\n",
       "      <td>no</td>\n",
       "    </tr>\n",
       "  </tbody>\n",
       "</table>\n",
       "</div>"
      ],
      "text/plain": [
       "   age          job  marital  education default  balance housing loan  \\\n",
       "0   38   technician  married   tertiary      no      127     yes   no   \n",
       "1   41    housemaid  married    primary      no      365      no   no   \n",
       "2   39   management   single   tertiary      no     2454     yes   no   \n",
       "3   49  blue-collar  married    primary      no     6215     yes   no   \n",
       "4   37     services  married  secondary      no     1694     yes  yes   \n",
       "\n",
       "    contact  day month  duration  campaign  pdays  previous poutcome deposit  \n",
       "0  cellular   14   oct       113         1     50         2  success      no  \n",
       "1  cellular    8   aug       203         5     -1         0  unknown      no  \n",
       "2  cellular    4   may       716         3    263         2  failure     yes  \n",
       "3  cellular   11   may       549         1     -1         0  unknown      no  \n",
       "4  cellular   29   jan       404         2    251         6  failure      no  "
      ]
     },
     "execution_count": 13,
     "metadata": {},
     "output_type": "execute_result"
    }
   ],
   "source": [
    "df.head()"
   ]
  },
  {
   "cell_type": "code",
   "execution_count": 14,
   "metadata": {
    "execution": {
     "iopub.execute_input": "2022-10-09T23:27:42.131779Z",
     "iopub.status.busy": "2022-10-09T23:27:42.130659Z",
     "iopub.status.idle": "2022-10-09T23:27:42.141833Z",
     "shell.execute_reply": "2022-10-09T23:27:42.140868Z",
     "shell.execute_reply.started": "2022-10-09T23:27:42.131711Z"
    }
   },
   "outputs": [
    {
     "data": {
      "text/plain": [
       "no     8244\n",
       "yes     127\n",
       "Name: default, dtype: int64"
      ]
     },
     "execution_count": 14,
     "metadata": {},
     "output_type": "execute_result"
    }
   ],
   "source": [
    "df['default'].value_counts()"
   ]
  },
  {
   "cell_type": "code",
   "execution_count": 15,
   "metadata": {
    "execution": {
     "iopub.execute_input": "2022-10-09T23:27:42.216099Z",
     "iopub.status.busy": "2022-10-09T23:27:42.215822Z",
     "iopub.status.idle": "2022-10-09T23:27:42.246270Z",
     "shell.execute_reply": "2022-10-09T23:27:42.245252Z",
     "shell.execute_reply.started": "2022-10-09T23:27:42.216074Z"
    }
   },
   "outputs": [
    {
     "data": {
      "text/html": [
       "<div>\n",
       "<style scoped>\n",
       "    .dataframe tbody tr th:only-of-type {\n",
       "        vertical-align: middle;\n",
       "    }\n",
       "\n",
       "    .dataframe tbody tr th {\n",
       "        vertical-align: top;\n",
       "    }\n",
       "\n",
       "    .dataframe thead th {\n",
       "        text-align: right;\n",
       "    }\n",
       "</style>\n",
       "<table border=\"1\" class=\"dataframe\">\n",
       "  <thead>\n",
       "    <tr style=\"text-align: right;\">\n",
       "      <th></th>\n",
       "      <th>age</th>\n",
       "      <th>balance</th>\n",
       "      <th>day</th>\n",
       "      <th>duration</th>\n",
       "      <th>campaign</th>\n",
       "      <th>pdays</th>\n",
       "      <th>previous</th>\n",
       "    </tr>\n",
       "  </thead>\n",
       "  <tbody>\n",
       "    <tr>\n",
       "      <th>count</th>\n",
       "      <td>8371.000000</td>\n",
       "      <td>8371.000000</td>\n",
       "      <td>8371.000000</td>\n",
       "      <td>8371.000000</td>\n",
       "      <td>8371.000000</td>\n",
       "      <td>8371.000000</td>\n",
       "      <td>8371.000000</td>\n",
       "    </tr>\n",
       "    <tr>\n",
       "      <th>mean</th>\n",
       "      <td>41.197467</td>\n",
       "      <td>1517.811134</td>\n",
       "      <td>15.588460</td>\n",
       "      <td>372.898698</td>\n",
       "      <td>2.512603</td>\n",
       "      <td>49.911958</td>\n",
       "      <td>0.823677</td>\n",
       "    </tr>\n",
       "    <tr>\n",
       "      <th>std</th>\n",
       "      <td>11.809300</td>\n",
       "      <td>3225.312218</td>\n",
       "      <td>8.406768</td>\n",
       "      <td>346.706743</td>\n",
       "      <td>2.734037</td>\n",
       "      <td>107.308417</td>\n",
       "      <td>2.315285</td>\n",
       "    </tr>\n",
       "    <tr>\n",
       "      <th>min</th>\n",
       "      <td>18.000000</td>\n",
       "      <td>-3058.000000</td>\n",
       "      <td>1.000000</td>\n",
       "      <td>2.000000</td>\n",
       "      <td>1.000000</td>\n",
       "      <td>-1.000000</td>\n",
       "      <td>0.000000</td>\n",
       "    </tr>\n",
       "    <tr>\n",
       "      <th>25%</th>\n",
       "      <td>32.000000</td>\n",
       "      <td>116.000000</td>\n",
       "      <td>8.000000</td>\n",
       "      <td>137.000000</td>\n",
       "      <td>1.000000</td>\n",
       "      <td>-1.000000</td>\n",
       "      <td>0.000000</td>\n",
       "    </tr>\n",
       "    <tr>\n",
       "      <th>50%</th>\n",
       "      <td>39.000000</td>\n",
       "      <td>532.000000</td>\n",
       "      <td>15.000000</td>\n",
       "      <td>255.000000</td>\n",
       "      <td>2.000000</td>\n",
       "      <td>-1.000000</td>\n",
       "      <td>0.000000</td>\n",
       "    </tr>\n",
       "    <tr>\n",
       "      <th>75%</th>\n",
       "      <td>49.000000</td>\n",
       "      <td>1694.000000</td>\n",
       "      <td>21.000000</td>\n",
       "      <td>504.000000</td>\n",
       "      <td>3.000000</td>\n",
       "      <td>2.000000</td>\n",
       "      <td>1.000000</td>\n",
       "    </tr>\n",
       "    <tr>\n",
       "      <th>max</th>\n",
       "      <td>95.000000</td>\n",
       "      <td>81204.000000</td>\n",
       "      <td>31.000000</td>\n",
       "      <td>3284.000000</td>\n",
       "      <td>63.000000</td>\n",
       "      <td>854.000000</td>\n",
       "      <td>58.000000</td>\n",
       "    </tr>\n",
       "  </tbody>\n",
       "</table>\n",
       "</div>"
      ],
      "text/plain": [
       "               age       balance          day     duration     campaign  \\\n",
       "count  8371.000000   8371.000000  8371.000000  8371.000000  8371.000000   \n",
       "mean     41.197467   1517.811134    15.588460   372.898698     2.512603   \n",
       "std      11.809300   3225.312218     8.406768   346.706743     2.734037   \n",
       "min      18.000000  -3058.000000     1.000000     2.000000     1.000000   \n",
       "25%      32.000000    116.000000     8.000000   137.000000     1.000000   \n",
       "50%      39.000000    532.000000    15.000000   255.000000     2.000000   \n",
       "75%      49.000000   1694.000000    21.000000   504.000000     3.000000   \n",
       "max      95.000000  81204.000000    31.000000  3284.000000    63.000000   \n",
       "\n",
       "             pdays     previous  \n",
       "count  8371.000000  8371.000000  \n",
       "mean     49.911958     0.823677  \n",
       "std     107.308417     2.315285  \n",
       "min      -1.000000     0.000000  \n",
       "25%      -1.000000     0.000000  \n",
       "50%      -1.000000     0.000000  \n",
       "75%       2.000000     1.000000  \n",
       "max     854.000000    58.000000  "
      ]
     },
     "execution_count": 15,
     "metadata": {},
     "output_type": "execute_result"
    }
   ],
   "source": [
    "df.describe()"
   ]
  },
  {
   "cell_type": "code",
   "execution_count": 16,
   "metadata": {
    "execution": {
     "iopub.execute_input": "2022-10-09T23:27:43.516802Z",
     "iopub.status.busy": "2022-10-09T23:27:43.516426Z",
     "iopub.status.idle": "2022-10-09T23:27:43.550729Z",
     "shell.execute_reply": "2022-10-09T23:27:43.549786Z",
     "shell.execute_reply.started": "2022-10-09T23:27:43.516769Z"
    }
   },
   "outputs": [],
   "source": [
    "def preprocess(df):\n",
    "    for label,content in df.items():\n",
    "        if not pd.api.types.is_numeric_dtype(content):\n",
    "            df[label]=content.astype('category').cat.as_ordered()\n",
    "            df[label]=pd.Categorical(content).codes\n",
    "    return df\n",
    "df=preprocess(df)"
   ]
  },
  {
   "cell_type": "code",
   "execution_count": 17,
   "metadata": {
    "execution": {
     "iopub.execute_input": "2022-10-09T23:27:44.621782Z",
     "iopub.status.busy": "2022-10-09T23:27:44.621401Z",
     "iopub.status.idle": "2022-10-09T23:27:44.629984Z",
     "shell.execute_reply": "2022-10-09T23:27:44.628919Z",
     "shell.execute_reply.started": "2022-10-09T23:27:44.621728Z"
    }
   },
   "outputs": [
    {
     "data": {
      "text/plain": [
       "8371"
      ]
     },
     "execution_count": 17,
     "metadata": {},
     "output_type": "execute_result"
    }
   ],
   "source": [
    "data_length=len(df)\n",
    "data_length"
   ]
  },
  {
   "cell_type": "code",
   "execution_count": 18,
   "metadata": {
    "execution": {
     "iopub.execute_input": "2022-10-09T23:27:45.312300Z",
     "iopub.status.busy": "2022-10-09T23:27:45.311620Z",
     "iopub.status.idle": "2022-10-09T23:27:45.330205Z",
     "shell.execute_reply": "2022-10-09T23:27:45.329359Z",
     "shell.execute_reply.started": "2022-10-09T23:27:45.312266Z"
    }
   },
   "outputs": [
    {
     "data": {
      "text/html": [
       "<div>\n",
       "<style scoped>\n",
       "    .dataframe tbody tr th:only-of-type {\n",
       "        vertical-align: middle;\n",
       "    }\n",
       "\n",
       "    .dataframe tbody tr th {\n",
       "        vertical-align: top;\n",
       "    }\n",
       "\n",
       "    .dataframe thead th {\n",
       "        text-align: right;\n",
       "    }\n",
       "</style>\n",
       "<table border=\"1\" class=\"dataframe\">\n",
       "  <thead>\n",
       "    <tr style=\"text-align: right;\">\n",
       "      <th></th>\n",
       "      <th>age</th>\n",
       "      <th>job</th>\n",
       "      <th>marital</th>\n",
       "      <th>education</th>\n",
       "      <th>default</th>\n",
       "      <th>balance</th>\n",
       "      <th>housing</th>\n",
       "      <th>loan</th>\n",
       "      <th>contact</th>\n",
       "      <th>day</th>\n",
       "      <th>month</th>\n",
       "      <th>duration</th>\n",
       "      <th>campaign</th>\n",
       "      <th>pdays</th>\n",
       "      <th>previous</th>\n",
       "      <th>poutcome</th>\n",
       "      <th>deposit</th>\n",
       "    </tr>\n",
       "  </thead>\n",
       "  <tbody>\n",
       "    <tr>\n",
       "      <th>0</th>\n",
       "      <td>38</td>\n",
       "      <td>9</td>\n",
       "      <td>1</td>\n",
       "      <td>2</td>\n",
       "      <td>0</td>\n",
       "      <td>127</td>\n",
       "      <td>1</td>\n",
       "      <td>0</td>\n",
       "      <td>0</td>\n",
       "      <td>14</td>\n",
       "      <td>10</td>\n",
       "      <td>113</td>\n",
       "      <td>1</td>\n",
       "      <td>50</td>\n",
       "      <td>2</td>\n",
       "      <td>2</td>\n",
       "      <td>0</td>\n",
       "    </tr>\n",
       "    <tr>\n",
       "      <th>1</th>\n",
       "      <td>41</td>\n",
       "      <td>3</td>\n",
       "      <td>1</td>\n",
       "      <td>0</td>\n",
       "      <td>0</td>\n",
       "      <td>365</td>\n",
       "      <td>0</td>\n",
       "      <td>0</td>\n",
       "      <td>0</td>\n",
       "      <td>8</td>\n",
       "      <td>1</td>\n",
       "      <td>203</td>\n",
       "      <td>5</td>\n",
       "      <td>-1</td>\n",
       "      <td>0</td>\n",
       "      <td>3</td>\n",
       "      <td>0</td>\n",
       "    </tr>\n",
       "    <tr>\n",
       "      <th>2</th>\n",
       "      <td>39</td>\n",
       "      <td>4</td>\n",
       "      <td>2</td>\n",
       "      <td>2</td>\n",
       "      <td>0</td>\n",
       "      <td>2454</td>\n",
       "      <td>1</td>\n",
       "      <td>0</td>\n",
       "      <td>0</td>\n",
       "      <td>4</td>\n",
       "      <td>8</td>\n",
       "      <td>716</td>\n",
       "      <td>3</td>\n",
       "      <td>263</td>\n",
       "      <td>2</td>\n",
       "      <td>0</td>\n",
       "      <td>1</td>\n",
       "    </tr>\n",
       "    <tr>\n",
       "      <th>3</th>\n",
       "      <td>49</td>\n",
       "      <td>1</td>\n",
       "      <td>1</td>\n",
       "      <td>0</td>\n",
       "      <td>0</td>\n",
       "      <td>6215</td>\n",
       "      <td>1</td>\n",
       "      <td>0</td>\n",
       "      <td>0</td>\n",
       "      <td>11</td>\n",
       "      <td>8</td>\n",
       "      <td>549</td>\n",
       "      <td>1</td>\n",
       "      <td>-1</td>\n",
       "      <td>0</td>\n",
       "      <td>3</td>\n",
       "      <td>0</td>\n",
       "    </tr>\n",
       "    <tr>\n",
       "      <th>4</th>\n",
       "      <td>37</td>\n",
       "      <td>7</td>\n",
       "      <td>1</td>\n",
       "      <td>1</td>\n",
       "      <td>0</td>\n",
       "      <td>1694</td>\n",
       "      <td>1</td>\n",
       "      <td>1</td>\n",
       "      <td>0</td>\n",
       "      <td>29</td>\n",
       "      <td>4</td>\n",
       "      <td>404</td>\n",
       "      <td>2</td>\n",
       "      <td>251</td>\n",
       "      <td>6</td>\n",
       "      <td>0</td>\n",
       "      <td>0</td>\n",
       "    </tr>\n",
       "  </tbody>\n",
       "</table>\n",
       "</div>"
      ],
      "text/plain": [
       "   age  job  marital  education  default  balance  housing  loan  contact  \\\n",
       "0   38    9        1          2        0      127        1     0        0   \n",
       "1   41    3        1          0        0      365        0     0        0   \n",
       "2   39    4        2          2        0     2454        1     0        0   \n",
       "3   49    1        1          0        0     6215        1     0        0   \n",
       "4   37    7        1          1        0     1694        1     1        0   \n",
       "\n",
       "   day  month  duration  campaign  pdays  previous  poutcome  deposit  \n",
       "0   14     10       113         1     50         2         2        0  \n",
       "1    8      1       203         5     -1         0         3        0  \n",
       "2    4      8       716         3    263         2         0        1  \n",
       "3   11      8       549         1     -1         0         3        0  \n",
       "4   29      4       404         2    251         6         0        0  "
      ]
     },
     "execution_count": 18,
     "metadata": {},
     "output_type": "execute_result"
    }
   ],
   "source": [
    "df.head()"
   ]
  },
  {
   "cell_type": "code",
   "execution_count": 19,
   "metadata": {
    "execution": {
     "iopub.execute_input": "2022-10-09T23:27:45.797566Z",
     "iopub.status.busy": "2022-10-09T23:27:45.797202Z",
     "iopub.status.idle": "2022-10-09T23:27:46.694450Z",
     "shell.execute_reply": "2022-10-09T23:27:46.693468Z",
     "shell.execute_reply.started": "2022-10-09T23:27:45.797536Z"
    }
   },
   "outputs": [
    {
     "data": {
      "image/png": "[encoded data removed]",
      "text/plain": [
       "<Figure size 1440x720 with 1 Axes>"
      ]
     },
     "metadata": {
      "needs_background": "light"
     },
     "output_type": "display_data"
    }
   ],
   "source": [
    "fig , ax = plt.subplots(figsize=(20,10))\n",
    "df_corr=df.corr()\n",
    "co=sns.heatmap(df_corr[df_corr>0],\n",
    "               annot=True,cbar=False,cmap=\"YlGnBu\");"
   ]
  },
  {
   "cell_type": "markdown",
   "metadata": {},
   "source": [
    "Relation between deposit and duration is very strong > then pdays>previous"
   ]
  },
  {
   "cell_type": "code",
   "execution_count": 20,
   "metadata": {
    "execution": {
     "iopub.execute_input": "2022-10-09T23:27:46.873401Z",
     "iopub.status.busy": "2022-10-09T23:27:46.872618Z",
     "iopub.status.idle": "2022-10-09T23:27:46.880801Z",
     "shell.execute_reply": "2022-10-09T23:27:46.879859Z",
     "shell.execute_reply.started": "2022-10-09T23:27:46.873359Z"
    }
   },
   "outputs": [],
   "source": [
    "## Time to split dataset\n",
    "X=df.drop('deposit',axis=1)\n",
    "y=df['deposit']"
   ]
  },
  {
   "cell_type": "code",
   "execution_count": 21,
   "metadata": {
    "execution": {
     "iopub.execute_input": "2022-10-09T23:27:47.474039Z",
     "iopub.status.busy": "2022-10-09T23:27:47.473256Z",
     "iopub.status.idle": "2022-10-09T23:27:47.488355Z",
     "shell.execute_reply": "2022-10-09T23:27:47.487261Z",
     "shell.execute_reply.started": "2022-10-09T23:27:47.474008Z"
    }
   },
   "outputs": [
    {
     "data": {
      "text/html": [
       "<div>\n",
       "<style scoped>\n",
       "    .dataframe tbody tr th:only-of-type {\n",
       "        vertical-align: middle;\n",
       "    }\n",
       "\n",
       "    .dataframe tbody tr th {\n",
       "        vertical-align: top;\n",
       "    }\n",
       "\n",
       "    .dataframe thead th {\n",
       "        text-align: right;\n",
       "    }\n",
       "</style>\n",
       "<table border=\"1\" class=\"dataframe\">\n",
       "  <thead>\n",
       "    <tr style=\"text-align: right;\">\n",
       "      <th></th>\n",
       "      <th>age</th>\n",
       "      <th>job</th>\n",
       "      <th>marital</th>\n",
       "      <th>education</th>\n",
       "      <th>default</th>\n",
       "      <th>balance</th>\n",
       "      <th>housing</th>\n",
       "      <th>loan</th>\n",
       "      <th>contact</th>\n",
       "      <th>day</th>\n",
       "      <th>month</th>\n",
       "      <th>duration</th>\n",
       "      <th>campaign</th>\n",
       "      <th>pdays</th>\n",
       "      <th>previous</th>\n",
       "      <th>poutcome</th>\n",
       "    </tr>\n",
       "  </thead>\n",
       "  <tbody>\n",
       "    <tr>\n",
       "      <th>0</th>\n",
       "      <td>38</td>\n",
       "      <td>9</td>\n",
       "      <td>1</td>\n",
       "      <td>2</td>\n",
       "      <td>0</td>\n",
       "      <td>127</td>\n",
       "      <td>1</td>\n",
       "      <td>0</td>\n",
       "      <td>0</td>\n",
       "      <td>14</td>\n",
       "      <td>10</td>\n",
       "      <td>113</td>\n",
       "      <td>1</td>\n",
       "      <td>50</td>\n",
       "      <td>2</td>\n",
       "      <td>2</td>\n",
       "    </tr>\n",
       "    <tr>\n",
       "      <th>1</th>\n",
       "      <td>41</td>\n",
       "      <td>3</td>\n",
       "      <td>1</td>\n",
       "      <td>0</td>\n",
       "      <td>0</td>\n",
       "      <td>365</td>\n",
       "      <td>0</td>\n",
       "      <td>0</td>\n",
       "      <td>0</td>\n",
       "      <td>8</td>\n",
       "      <td>1</td>\n",
       "      <td>203</td>\n",
       "      <td>5</td>\n",
       "      <td>-1</td>\n",
       "      <td>0</td>\n",
       "      <td>3</td>\n",
       "    </tr>\n",
       "    <tr>\n",
       "      <th>2</th>\n",
       "      <td>39</td>\n",
       "      <td>4</td>\n",
       "      <td>2</td>\n",
       "      <td>2</td>\n",
       "      <td>0</td>\n",
       "      <td>2454</td>\n",
       "      <td>1</td>\n",
       "      <td>0</td>\n",
       "      <td>0</td>\n",
       "      <td>4</td>\n",
       "      <td>8</td>\n",
       "      <td>716</td>\n",
       "      <td>3</td>\n",
       "      <td>263</td>\n",
       "      <td>2</td>\n",
       "      <td>0</td>\n",
       "    </tr>\n",
       "    <tr>\n",
       "      <th>3</th>\n",
       "      <td>49</td>\n",
       "      <td>1</td>\n",
       "      <td>1</td>\n",
       "      <td>0</td>\n",
       "      <td>0</td>\n",
       "      <td>6215</td>\n",
       "      <td>1</td>\n",
       "      <td>0</td>\n",
       "      <td>0</td>\n",
       "      <td>11</td>\n",
       "      <td>8</td>\n",
       "      <td>549</td>\n",
       "      <td>1</td>\n",
       "      <td>-1</td>\n",
       "      <td>0</td>\n",
       "      <td>3</td>\n",
       "    </tr>\n",
       "    <tr>\n",
       "      <th>4</th>\n",
       "      <td>37</td>\n",
       "      <td>7</td>\n",
       "      <td>1</td>\n",
       "      <td>1</td>\n",
       "      <td>0</td>\n",
       "      <td>1694</td>\n",
       "      <td>1</td>\n",
       "      <td>1</td>\n",
       "      <td>0</td>\n",
       "      <td>29</td>\n",
       "      <td>4</td>\n",
       "      <td>404</td>\n",
       "      <td>2</td>\n",
       "      <td>251</td>\n",
       "      <td>6</td>\n",
       "      <td>0</td>\n",
       "    </tr>\n",
       "  </tbody>\n",
       "</table>\n",
       "</div>"
      ],
      "text/plain": [
       "   age  job  marital  education  default  balance  housing  loan  contact  \\\n",
       "0   38    9        1          2        0      127        1     0        0   \n",
       "1   41    3        1          0        0      365        0     0        0   \n",
       "2   39    4        2          2        0     2454        1     0        0   \n",
       "3   49    1        1          0        0     6215        1     0        0   \n",
       "4   37    7        1          1        0     1694        1     1        0   \n",
       "\n",
       "   day  month  duration  campaign  pdays  previous  poutcome  \n",
       "0   14     10       113         1     50         2         2  \n",
       "1    8      1       203         5     -1         0         3  \n",
       "2    4      8       716         3    263         2         0  \n",
       "3   11      8       549         1     -1         0         3  \n",
       "4   29      4       404         2    251         6         0  "
      ]
     },
     "execution_count": 21,
     "metadata": {},
     "output_type": "execute_result"
    }
   ],
   "source": [
    "X.head()"
   ]
  },
  {
   "cell_type": "code",
   "execution_count": 22,
   "metadata": {
    "execution": {
     "iopub.execute_input": "2022-10-09T23:27:49.205485Z",
     "iopub.status.busy": "2022-10-09T23:27:49.205126Z",
     "iopub.status.idle": "2022-10-09T23:27:49.307637Z",
     "shell.execute_reply": "2022-10-09T23:27:49.306717Z",
     "shell.execute_reply.started": "2022-10-09T23:27:49.205456Z"
    }
   },
   "outputs": [],
   "source": [
    "#lets split the data in train and test\n",
    "np.random.seed(42)\n",
    "from sklearn.model_selection import train_test_split\n",
    "x_train,x_test,y_train,y_test=train_test_split(X,y,test_size=0.2,stratify=y)"
   ]
  },
  {
   "cell_type": "markdown",
   "metadata": {
    "execution": {
     "iopub.execute_input": "2022-10-09T22:53:53.931005Z",
     "iopub.status.busy": "2022-10-09T22:53:53.930597Z",
     "iopub.status.idle": "2022-10-09T22:53:53.937929Z",
     "shell.execute_reply": "2022-10-09T22:53:53.936801Z",
     "shell.execute_reply.started": "2022-10-09T22:53:53.930972Z"
    }
   },
   "source": [
    "# Modelling"
   ]
  },
  {
   "cell_type": "markdown",
   "metadata": {},
   "source": [
    "**Random forest improves bagging by introducing splitting to decorrelate the tree into \n",
    "a random subset of features. This means that each time the tree is split, the model only considers \n",
    "a small subset of the features of the model rather than all of them.**"
   ]
  },
  {
   "cell_type": "code",
   "execution_count": 23,
   "metadata": {
    "execution": {
     "iopub.execute_input": "2022-10-09T23:27:51.352870Z",
     "iopub.status.busy": "2022-10-09T23:27:51.352482Z",
     "iopub.status.idle": "2022-10-09T23:27:52.626050Z",
     "shell.execute_reply": "2022-10-09T23:27:52.625080Z",
     "shell.execute_reply.started": "2022-10-09T23:27:51.352838Z"
    }
   },
   "outputs": [],
   "source": [
    "np.random.seed(42)\n",
    "from sklearn.ensemble import RandomForestClassifier\n",
    "model=RandomForestClassifier()\n",
    "model.fit(x_train,y_train);"
   ]
  },
  {
   "cell_type": "code",
   "execution_count": 24,
   "metadata": {
    "execution": {
     "iopub.execute_input": "2022-10-09T23:27:53.842867Z",
     "iopub.status.busy": "2022-10-09T23:27:53.842494Z",
     "iopub.status.idle": "2022-10-09T23:27:53.969569Z",
     "shell.execute_reply": "2022-10-09T23:27:53.968683Z",
     "shell.execute_reply.started": "2022-10-09T23:27:53.842838Z"
    }
   },
   "outputs": [
    {
     "data": {
      "text/plain": [
       "1.0"
      ]
     },
     "execution_count": 24,
     "metadata": {},
     "output_type": "execute_result"
    }
   ],
   "source": [
    "np.random.seed(42)\n",
    "model.score(x_train,y_train) #checking well model has set weights upon training dataset"
   ]
  },
  {
   "cell_type": "code",
   "execution_count": 25,
   "metadata": {
    "execution": {
     "iopub.execute_input": "2022-10-09T23:27:55.117674Z",
     "iopub.status.busy": "2022-10-09T23:27:55.116795Z",
     "iopub.status.idle": "2022-10-09T23:27:55.170132Z",
     "shell.execute_reply": "2022-10-09T23:27:55.169091Z",
     "shell.execute_reply.started": "2022-10-09T23:27:55.117630Z"
    }
   },
   "outputs": [
    {
     "data": {
      "text/plain": [
       "0.8465671641791045"
      ]
     },
     "execution_count": 25,
     "metadata": {},
     "output_type": "execute_result"
    }
   ],
   "source": [
    "np.random.seed(42)\n",
    "model.score(x_test,y_test)"
   ]
  },
  {
   "cell_type": "markdown",
   "metadata": {},
   "source": [
    "#### We are just going to improve Random Forest Regressor\n",
    "\n",
    "* GridSearchCV"
   ]
  },
  {
   "cell_type": "code",
   "execution_count": 26,
   "metadata": {
    "execution": {
     "iopub.execute_input": "2022-10-09T23:27:57.843200Z",
     "iopub.status.busy": "2022-10-09T23:27:57.842500Z",
     "iopub.status.idle": "2022-10-09T23:29:44.126067Z",
     "shell.execute_reply": "2022-10-09T23:29:44.125034Z",
     "shell.execute_reply.started": "2022-10-09T23:27:57.843163Z"
    }
   },
   "outputs": [
    {
     "data": {
      "text/plain": [
       "GridSearchCV(cv=5,\n",
       "             estimator=RandomForestClassifier(max_features='sqrt',\n",
       "                                              n_estimators=50, n_jobs=-1,\n",
       "                                              oob_score=True),\n",
       "             param_grid={'max_features': ['auto', 'sqrt', 'log2'],\n",
       "                         'n_estimators': [200, 700]})"
      ]
     },
     "execution_count": 26,
     "metadata": {},
     "output_type": "execute_result"
    }
   ],
   "source": [
    "from sklearn.model_selection import GridSearchCV\n",
    "np.random.seed(42)\n",
    "rfc = RandomForestClassifier(n_jobs=-1,max_features= 'sqrt' ,n_estimators=50, oob_score = True) \n",
    "\n",
    "param_grid = { \n",
    "    'n_estimators': [200, 700],\n",
    "    'max_features': ['auto', 'sqrt', 'log2']\n",
    "}\n",
    "\n",
    "CV_rfc = GridSearchCV(estimator=rfc, param_grid=param_grid, cv= 5)\n",
    "CV_rfc.fit(x_train, y_train)"
   ]
  },
  {
   "cell_type": "code",
   "execution_count": 27,
   "metadata": {
    "execution": {
     "iopub.execute_input": "2022-10-09T23:29:53.681081Z",
     "iopub.status.busy": "2022-10-09T23:29:53.679944Z",
     "iopub.status.idle": "2022-10-09T23:29:53.688885Z",
     "shell.execute_reply": "2022-10-09T23:29:53.687808Z",
     "shell.execute_reply.started": "2022-10-09T23:29:53.681027Z"
    }
   },
   "outputs": [
    {
     "data": {
      "text/plain": [
       "{'max_features': 'auto', 'n_estimators': 200}"
      ]
     },
     "execution_count": 27,
     "metadata": {},
     "output_type": "execute_result"
    }
   ],
   "source": [
    "CV_rfc.best_params_"
   ]
  },
  {
   "cell_type": "code",
   "execution_count": 28,
   "metadata": {
    "execution": {
     "iopub.execute_input": "2022-10-09T23:30:00.421566Z",
     "iopub.status.busy": "2022-10-09T23:30:00.421189Z",
     "iopub.status.idle": "2022-10-09T23:30:00.633598Z",
     "shell.execute_reply": "2022-10-09T23:30:00.632662Z",
     "shell.execute_reply.started": "2022-10-09T23:30:00.421537Z"
    }
   },
   "outputs": [
    {
     "data": {
      "text/plain": [
       "1.0"
      ]
     },
     "execution_count": 28,
     "metadata": {},
     "output_type": "execute_result"
    }
   ],
   "source": [
    "np.random.seed(42)\n",
    "CV_rfc.score(x_train,y_train)"
   ]
  },
  {
   "cell_type": "code",
   "execution_count": 29,
   "metadata": {
    "execution": {
     "iopub.execute_input": "2022-10-09T23:30:02.081872Z",
     "iopub.status.busy": "2022-10-09T23:30:02.081483Z",
     "iopub.status.idle": "2022-10-09T23:30:02.193649Z",
     "shell.execute_reply": "2022-10-09T23:30:02.192801Z",
     "shell.execute_reply.started": "2022-10-09T23:30:02.081839Z"
    }
   },
   "outputs": [
    {
     "data": {
      "text/plain": [
       "0.8453731343283583"
      ]
     },
     "execution_count": 29,
     "metadata": {},
     "output_type": "execute_result"
    }
   ],
   "source": [
    "np.random.seed(42)\n",
    "CV_rfc.score(x_test,y_test)"
   ]
  },
  {
   "cell_type": "markdown",
   "metadata": {},
   "source": [
    "**No improvement**"
   ]
  },
  {
   "cell_type": "markdown",
   "metadata": {},
   "source": [
    "**Gradient-enhanced trees can be more accurate than random forests. They are trained to correct each other's mistakes, so they can pick up complex patterns in the data.**"
   ]
  },
  {
   "cell_type": "code",
   "execution_count": 30,
   "metadata": {
    "execution": {
     "iopub.execute_input": "2022-10-09T23:30:04.936488Z",
     "iopub.status.busy": "2022-10-09T23:30:04.936095Z",
     "iopub.status.idle": "2022-10-09T23:30:05.770987Z",
     "shell.execute_reply": "2022-10-09T23:30:05.770043Z",
     "shell.execute_reply.started": "2022-10-09T23:30:04.936453Z"
    }
   },
   "outputs": [],
   "source": [
    "from sklearn.ensemble import GradientBoostingClassifier\n",
    "model=GradientBoostingClassifier()\n",
    "model.fit(x_train,y_train);"
   ]
  },
  {
   "cell_type": "code",
   "execution_count": 31,
   "metadata": {
    "execution": {
     "iopub.execute_input": "2022-10-09T23:30:07.512188Z",
     "iopub.status.busy": "2022-10-09T23:30:07.511338Z",
     "iopub.status.idle": "2022-10-09T23:30:07.534329Z",
     "shell.execute_reply": "2022-10-09T23:30:07.533281Z",
     "shell.execute_reply.started": "2022-10-09T23:30:07.512139Z"
    }
   },
   "outputs": [
    {
     "data": {
      "text/plain": [
       "0.8599163679808841"
      ]
     },
     "execution_count": 31,
     "metadata": {},
     "output_type": "execute_result"
    }
   ],
   "source": [
    "np.random.seed(42)\n",
    "model.score(x_train,y_train) #checking well model has set weights upon training dataset"
   ]
  },
  {
   "cell_type": "code",
   "execution_count": 32,
   "metadata": {
    "execution": {
     "iopub.execute_input": "2022-10-09T23:30:08.633466Z",
     "iopub.status.busy": "2022-10-09T23:30:08.633132Z",
     "iopub.status.idle": "2022-10-09T23:30:08.647305Z",
     "shell.execute_reply": "2022-10-09T23:30:08.645941Z",
     "shell.execute_reply.started": "2022-10-09T23:30:08.633438Z"
    }
   },
   "outputs": [
    {
     "data": {
      "text/plain": [
       "0.8507462686567164"
      ]
     },
     "execution_count": 32,
     "metadata": {},
     "output_type": "execute_result"
    }
   ],
   "source": [
    "np.random.seed(42)\n",
    "model.score(x_test,y_test)"
   ]
  },
  {
   "cell_type": "markdown",
   "metadata": {},
   "source": [
    "**Logistic regression is very efficient to implement, interpret and train. Classifying unknown records is very fast. Works well when the dataset is linearly separable. Model coefficients can be interpreted as a measure of feature importance.**"
   ]
  },
  {
   "cell_type": "code",
   "execution_count": 33,
   "metadata": {
    "execution": {
     "iopub.execute_input": "2022-10-09T23:30:12.411626Z",
     "iopub.status.busy": "2022-10-09T23:30:12.411270Z",
     "iopub.status.idle": "2022-10-09T23:30:12.550954Z",
     "shell.execute_reply": "2022-10-09T23:30:12.549655Z",
     "shell.execute_reply.started": "2022-10-09T23:30:12.411595Z"
    }
   },
   "outputs": [
    {
     "name": "stderr",
     "output_type": "stream",
     "text": [
      "/opt/conda/lib/python3.7/site-packages/sklearn/linear_model/_logistic.py:818: ConvergenceWarning: lbfgs failed to converge (status=1):\n",
      "STOP: TOTAL NO. of ITERATIONS REACHED LIMIT.\n",
      "\n",
      "Increase the number of iterations (max_iter) or scale the data as shown in:\n",
      "    https://scikit-learn.org/stable/modules/preprocessing.html\n",
      "Please also refer to the documentation for alternative solver options:\n",
      "    https://scikit-learn.org/stable/modules/linear_model.html#logistic-regression\n",
      "  extra_warning_msg=_LOGISTIC_SOLVER_CONVERGENCE_MSG,\n"
     ]
    }
   ],
   "source": [
    "from sklearn.linear_model import LogisticRegression\n",
    "lr=LogisticRegression()\n",
    "lr.fit(x_train,y_train);"
   ]
  },
  {
   "cell_type": "code",
   "execution_count": 34,
   "metadata": {
    "execution": {
     "iopub.execute_input": "2022-10-09T23:30:14.356914Z",
     "iopub.status.busy": "2022-10-09T23:30:14.356542Z",
     "iopub.status.idle": "2022-10-09T23:30:14.368795Z",
     "shell.execute_reply": "2022-10-09T23:30:14.367539Z",
     "shell.execute_reply.started": "2022-10-09T23:30:14.356881Z"
    }
   },
   "outputs": [
    {
     "data": {
      "text/plain": [
       "0.758363201911589"
      ]
     },
     "execution_count": 34,
     "metadata": {},
     "output_type": "execute_result"
    }
   ],
   "source": [
    "lr.score(x_train,y_train)"
   ]
  },
  {
   "cell_type": "code",
   "execution_count": 35,
   "metadata": {
    "execution": {
     "iopub.execute_input": "2022-10-09T23:30:15.888569Z",
     "iopub.status.busy": "2022-10-09T23:30:15.888145Z",
     "iopub.status.idle": "2022-10-09T23:30:15.904357Z",
     "shell.execute_reply": "2022-10-09T23:30:15.903069Z",
     "shell.execute_reply.started": "2022-10-09T23:30:15.888534Z"
    }
   },
   "outputs": [
    {
     "data": {
      "text/plain": [
       "0.7713432835820896"
      ]
     },
     "execution_count": 35,
     "metadata": {},
     "output_type": "execute_result"
    }
   ],
   "source": [
    "lr.score(x_test,y_test)"
   ]
  },
  {
   "cell_type": "markdown",
   "metadata": {
    "execution": {
     "iopub.execute_input": "2022-10-09T23:22:09.339801Z",
     "iopub.status.busy": "2022-10-09T23:22:09.339290Z",
     "iopub.status.idle": "2022-10-09T23:22:09.346997Z",
     "shell.execute_reply": "2022-10-09T23:22:09.345370Z",
     "shell.execute_reply.started": "2022-10-09T23:22:09.339763Z"
    }
   },
   "source": [
    "**We will move with Gradient Boosting Classifier Because with Random Forest Classifier we are getting `overfitting` issue and with logistic regression we are getting very low accuracy**"
   ]
  },
  {
   "cell_type": "code",
   "execution_count": 78,
   "metadata": {
    "execution": {
     "iopub.execute_input": "2022-10-09T23:54:38.657413Z",
     "iopub.status.busy": "2022-10-09T23:54:38.656971Z",
     "iopub.status.idle": "2022-10-09T23:54:38.673151Z",
     "shell.execute_reply": "2022-10-09T23:54:38.672228Z",
     "shell.execute_reply.started": "2022-10-09T23:54:38.657375Z"
    }
   },
   "outputs": [],
   "source": [
    "## Evaluation\n",
    "np.random.seed(42)\n",
    "from sklearn.metrics import classification_report,confusion_matrix,precision_score,recall_score,f1_score\n",
    "y_pred=model.predict(x_test)"
   ]
  },
  {
   "cell_type": "code",
   "execution_count": 79,
   "metadata": {
    "execution": {
     "iopub.execute_input": "2022-10-09T23:54:39.903809Z",
     "iopub.status.busy": "2022-10-09T23:54:39.903422Z",
     "iopub.status.idle": "2022-10-09T23:54:39.917255Z",
     "shell.execute_reply": "2022-10-09T23:54:39.916309Z",
     "shell.execute_reply.started": "2022-10-09T23:54:39.903772Z"
    }
   },
   "outputs": [
    {
     "name": "stdout",
     "output_type": "stream",
     "text": [
      "              precision    recall  f1-score   support\n",
      "\n",
      "           0       0.86      0.85      0.86       886\n",
      "           1       0.84      0.85      0.84       789\n",
      "\n",
      "    accuracy                           0.85      1675\n",
      "   macro avg       0.85      0.85      0.85      1675\n",
      "weighted avg       0.85      0.85      0.85      1675\n",
      "\n"
     ]
    }
   ],
   "source": [
    "print(classification_report(y_test,y_pred))"
   ]
  },
  {
   "cell_type": "code",
   "execution_count": 80,
   "metadata": {
    "execution": {
     "iopub.execute_input": "2022-10-09T23:54:42.716140Z",
     "iopub.status.busy": "2022-10-09T23:54:42.715564Z",
     "iopub.status.idle": "2022-10-09T23:54:42.726186Z",
     "shell.execute_reply": "2022-10-09T23:54:42.725036Z",
     "shell.execute_reply.started": "2022-10-09T23:54:42.716095Z"
    }
   },
   "outputs": [
    {
     "data": {
      "text/plain": [
       "0.8356164383561644"
      ]
     },
     "execution_count": 80,
     "metadata": {},
     "output_type": "execute_result"
    }
   ],
   "source": [
    "precision_score(y_test,y_pred)"
   ]
  },
  {
   "cell_type": "code",
   "execution_count": 81,
   "metadata": {
    "execution": {
     "iopub.execute_input": "2022-10-09T23:55:01.135493Z",
     "iopub.status.busy": "2022-10-09T23:55:01.135134Z",
     "iopub.status.idle": "2022-10-09T23:55:01.144631Z",
     "shell.execute_reply": "2022-10-09T23:55:01.143649Z",
     "shell.execute_reply.started": "2022-10-09T23:55:01.135462Z"
    }
   },
   "outputs": [
    {
     "data": {
      "text/plain": [
       "0.8504435994930292"
      ]
     },
     "execution_count": 81,
     "metadata": {},
     "output_type": "execute_result"
    }
   ],
   "source": [
    "recall_score(y_test,y_pred)"
   ]
  },
  {
   "cell_type": "code",
   "execution_count": 82,
   "metadata": {
    "execution": {
     "iopub.execute_input": "2022-10-09T23:55:18.335415Z",
     "iopub.status.busy": "2022-10-09T23:55:18.335053Z",
     "iopub.status.idle": "2022-10-09T23:55:18.345942Z",
     "shell.execute_reply": "2022-10-09T23:55:18.344722Z",
     "shell.execute_reply.started": "2022-10-09T23:55:18.335386Z"
    }
   },
   "outputs": [
    {
     "data": {
      "text/plain": [
       "0.8429648241206031"
      ]
     },
     "execution_count": 82,
     "metadata": {},
     "output_type": "execute_result"
    }
   ],
   "source": [
    "f1_score(y_test,y_pred)"
   ]
  },
  {
   "cell_type": "code",
   "execution_count": 85,
   "metadata": {
    "execution": {
     "iopub.execute_input": "2022-10-09T23:56:18.409420Z",
     "iopub.status.busy": "2022-10-09T23:56:18.409045Z",
     "iopub.status.idle": "2022-10-09T23:56:18.567516Z",
     "shell.execute_reply": "2022-10-09T23:56:18.566254Z",
     "shell.execute_reply.started": "2022-10-09T23:56:18.409389Z"
    }
   },
   "outputs": [
    {
     "data": {
      "image/png": "[encoded data removed]",
      "text/plain": [
       "<Figure size 720x720 with 1 Axes>"
      ]
     },
     "metadata": {
      "needs_background": "light"
     },
     "output_type": "display_data"
    }
   ],
   "source": [
    "fig , ax = plt.subplots(figsize=(10,10))\n",
    "co=sns.heatmap(confusion_matrix(y_test,y_pred),\n",
    "               annot=True,cbar=False,cmap=\"YlGnBu\",fmt='d');"
   ]
  },
  {
   "cell_type": "code",
   "execution_count": 86,
   "metadata": {
    "execution": {
     "iopub.execute_input": "2022-10-09T23:56:38.371410Z",
     "iopub.status.busy": "2022-10-09T23:56:38.371041Z",
     "iopub.status.idle": "2022-10-09T23:56:38.378194Z",
     "shell.execute_reply": "2022-10-09T23:56:38.377197Z",
     "shell.execute_reply.started": "2022-10-09T23:56:38.371381Z"
    }
   },
   "outputs": [
    {
     "data": {
      "text/plain": [
       "array([1, 1, 0, ..., 1, 1, 0], dtype=int8)"
      ]
     },
     "execution_count": 86,
     "metadata": {},
     "output_type": "execute_result"
    }
   ],
   "source": [
    "y_pred"
   ]
  },
  {
   "cell_type": "code",
   "execution_count": 92,
   "metadata": {
    "execution": {
     "iopub.execute_input": "2022-10-09T23:58:08.978884Z",
     "iopub.status.busy": "2022-10-09T23:58:08.977338Z",
     "iopub.status.idle": "2022-10-09T23:58:09.030799Z",
     "shell.execute_reply": "2022-10-09T23:58:09.029799Z",
     "shell.execute_reply.started": "2022-10-09T23:58:08.978840Z"
    }
   },
   "outputs": [
    {
     "data": {
      "text/html": [
       "<div>\n",
       "<style scoped>\n",
       "    .dataframe tbody tr th:only-of-type {\n",
       "        vertical-align: middle;\n",
       "    }\n",
       "\n",
       "    .dataframe tbody tr th {\n",
       "        vertical-align: top;\n",
       "    }\n",
       "\n",
       "    .dataframe thead th {\n",
       "        text-align: right;\n",
       "    }\n",
       "</style>\n",
       "<table border=\"1\" class=\"dataframe\">\n",
       "  <thead>\n",
       "    <tr style=\"text-align: right;\">\n",
       "      <th></th>\n",
       "      <th>age</th>\n",
       "      <th>job</th>\n",
       "      <th>marital</th>\n",
       "      <th>education</th>\n",
       "      <th>default</th>\n",
       "      <th>balance</th>\n",
       "      <th>housing</th>\n",
       "      <th>loan</th>\n",
       "      <th>contact</th>\n",
       "      <th>day</th>\n",
       "      <th>month</th>\n",
       "      <th>duration</th>\n",
       "      <th>campaign</th>\n",
       "      <th>pdays</th>\n",
       "      <th>previous</th>\n",
       "      <th>poutcome</th>\n",
       "    </tr>\n",
       "  </thead>\n",
       "  <tbody>\n",
       "    <tr>\n",
       "      <th>0</th>\n",
       "      <td>31</td>\n",
       "      <td>blue-collar</td>\n",
       "      <td>single</td>\n",
       "      <td>secondary</td>\n",
       "      <td>yes</td>\n",
       "      <td>477</td>\n",
       "      <td>no</td>\n",
       "      <td>no</td>\n",
       "      <td>cellular</td>\n",
       "      <td>20</td>\n",
       "      <td>nov</td>\n",
       "      <td>426</td>\n",
       "      <td>2</td>\n",
       "      <td>189</td>\n",
       "      <td>6</td>\n",
       "      <td>failure</td>\n",
       "    </tr>\n",
       "    <tr>\n",
       "      <th>1</th>\n",
       "      <td>49</td>\n",
       "      <td>blue-collar</td>\n",
       "      <td>married</td>\n",
       "      <td>primary</td>\n",
       "      <td>no</td>\n",
       "      <td>599</td>\n",
       "      <td>no</td>\n",
       "      <td>no</td>\n",
       "      <td>cellular</td>\n",
       "      <td>23</td>\n",
       "      <td>jul</td>\n",
       "      <td>464</td>\n",
       "      <td>1</td>\n",
       "      <td>-1</td>\n",
       "      <td>0</td>\n",
       "      <td>unknown</td>\n",
       "    </tr>\n",
       "    <tr>\n",
       "      <th>2</th>\n",
       "      <td>51</td>\n",
       "      <td>self-employed</td>\n",
       "      <td>single</td>\n",
       "      <td>tertiary</td>\n",
       "      <td>no</td>\n",
       "      <td>400</td>\n",
       "      <td>no</td>\n",
       "      <td>yes</td>\n",
       "      <td>cellular</td>\n",
       "      <td>27</td>\n",
       "      <td>may</td>\n",
       "      <td>200</td>\n",
       "      <td>1</td>\n",
       "      <td>-1</td>\n",
       "      <td>0</td>\n",
       "      <td>unknown</td>\n",
       "    </tr>\n",
       "    <tr>\n",
       "      <th>3</th>\n",
       "      <td>33</td>\n",
       "      <td>technician</td>\n",
       "      <td>married</td>\n",
       "      <td>secondary</td>\n",
       "      <td>no</td>\n",
       "      <td>488</td>\n",
       "      <td>yes</td>\n",
       "      <td>no</td>\n",
       "      <td>unknown</td>\n",
       "      <td>8</td>\n",
       "      <td>may</td>\n",
       "      <td>703</td>\n",
       "      <td>1</td>\n",
       "      <td>-1</td>\n",
       "      <td>0</td>\n",
       "      <td>unknown</td>\n",
       "    </tr>\n",
       "    <tr>\n",
       "      <th>4</th>\n",
       "      <td>34</td>\n",
       "      <td>admin.</td>\n",
       "      <td>married</td>\n",
       "      <td>secondary</td>\n",
       "      <td>no</td>\n",
       "      <td>40</td>\n",
       "      <td>yes</td>\n",
       "      <td>no</td>\n",
       "      <td>telephone</td>\n",
       "      <td>5</td>\n",
       "      <td>may</td>\n",
       "      <td>125</td>\n",
       "      <td>2</td>\n",
       "      <td>-1</td>\n",
       "      <td>0</td>\n",
       "      <td>unknown</td>\n",
       "    </tr>\n",
       "  </tbody>\n",
       "</table>\n",
       "</div>"
      ],
      "text/plain": [
       "   age            job  marital  education default  balance housing loan  \\\n",
       "0   31    blue-collar   single  secondary     yes      477      no   no   \n",
       "1   49    blue-collar  married    primary      no      599      no   no   \n",
       "2   51  self-employed   single   tertiary      no      400      no  yes   \n",
       "3   33     technician  married  secondary      no      488     yes   no   \n",
       "4   34         admin.  married  secondary      no       40     yes   no   \n",
       "\n",
       "     contact  day month  duration  campaign  pdays  previous poutcome  \n",
       "0   cellular   20   nov       426         2    189         6  failure  \n",
       "1   cellular   23   jul       464         1     -1         0  unknown  \n",
       "2   cellular   27   may       200         1     -1         0  unknown  \n",
       "3    unknown    8   may       703         1     -1         0  unknown  \n",
       "4  telephone    5   may       125         2     -1         0  unknown  "
      ]
     },
     "execution_count": 92,
     "metadata": {},
     "output_type": "execute_result"
    }
   ],
   "source": [
    "test=pd.read_csv('../input/ml-marathon/test_data.csv')\n",
    "test.head()"
   ]
  },
  {
   "cell_type": "code",
   "execution_count": 93,
   "metadata": {
    "execution": {
     "iopub.execute_input": "2022-10-09T23:58:27.146689Z",
     "iopub.status.busy": "2022-10-09T23:58:27.146224Z",
     "iopub.status.idle": "2022-10-09T23:58:27.160335Z",
     "shell.execute_reply": "2022-10-09T23:58:27.159305Z",
     "shell.execute_reply.started": "2022-10-09T23:58:27.146648Z"
    }
   },
   "outputs": [
    {
     "data": {
      "text/plain": [
       "age          0\n",
       "job          0\n",
       "marital      0\n",
       "education    0\n",
       "default      0\n",
       "balance      0\n",
       "housing      0\n",
       "loan         0\n",
       "contact      0\n",
       "day          0\n",
       "month        0\n",
       "duration     0\n",
       "campaign     0\n",
       "pdays        0\n",
       "previous     0\n",
       "poutcome     0\n",
       "dtype: int64"
      ]
     },
     "execution_count": 93,
     "metadata": {},
     "output_type": "execute_result"
    }
   ],
   "source": [
    "test.isna().sum()"
   ]
  },
  {
   "cell_type": "code",
   "execution_count": 94,
   "metadata": {
    "execution": {
     "iopub.execute_input": "2022-10-09T23:58:41.058638Z",
     "iopub.status.busy": "2022-10-09T23:58:41.058262Z",
     "iopub.status.idle": "2022-10-09T23:58:41.084345Z",
     "shell.execute_reply": "2022-10-09T23:58:41.083432Z",
     "shell.execute_reply.started": "2022-10-09T23:58:41.058605Z"
    }
   },
   "outputs": [],
   "source": [
    "test=preprocess(test)"
   ]
  },
  {
   "cell_type": "code",
   "execution_count": 95,
   "metadata": {
    "execution": {
     "iopub.execute_input": "2022-10-09T23:58:56.926110Z",
     "iopub.status.busy": "2022-10-09T23:58:56.925614Z",
     "iopub.status.idle": "2022-10-09T23:58:56.949538Z",
     "shell.execute_reply": "2022-10-09T23:58:56.948572Z",
     "shell.execute_reply.started": "2022-10-09T23:58:56.926075Z"
    }
   },
   "outputs": [
    {
     "data": {
      "text/html": [
       "<div>\n",
       "<style scoped>\n",
       "    .dataframe tbody tr th:only-of-type {\n",
       "        vertical-align: middle;\n",
       "    }\n",
       "\n",
       "    .dataframe tbody tr th {\n",
       "        vertical-align: top;\n",
       "    }\n",
       "\n",
       "    .dataframe thead th {\n",
       "        text-align: right;\n",
       "    }\n",
       "</style>\n",
       "<table border=\"1\" class=\"dataframe\">\n",
       "  <thead>\n",
       "    <tr style=\"text-align: right;\">\n",
       "      <th></th>\n",
       "      <th>age</th>\n",
       "      <th>job</th>\n",
       "      <th>marital</th>\n",
       "      <th>education</th>\n",
       "      <th>default</th>\n",
       "      <th>balance</th>\n",
       "      <th>housing</th>\n",
       "      <th>loan</th>\n",
       "      <th>contact</th>\n",
       "      <th>day</th>\n",
       "      <th>month</th>\n",
       "      <th>duration</th>\n",
       "      <th>campaign</th>\n",
       "      <th>pdays</th>\n",
       "      <th>previous</th>\n",
       "      <th>poutcome</th>\n",
       "    </tr>\n",
       "  </thead>\n",
       "  <tbody>\n",
       "    <tr>\n",
       "      <th>0</th>\n",
       "      <td>31</td>\n",
       "      <td>1</td>\n",
       "      <td>2</td>\n",
       "      <td>1</td>\n",
       "      <td>1</td>\n",
       "      <td>477</td>\n",
       "      <td>0</td>\n",
       "      <td>0</td>\n",
       "      <td>0</td>\n",
       "      <td>20</td>\n",
       "      <td>9</td>\n",
       "      <td>426</td>\n",
       "      <td>2</td>\n",
       "      <td>189</td>\n",
       "      <td>6</td>\n",
       "      <td>0</td>\n",
       "    </tr>\n",
       "    <tr>\n",
       "      <th>1</th>\n",
       "      <td>49</td>\n",
       "      <td>1</td>\n",
       "      <td>1</td>\n",
       "      <td>0</td>\n",
       "      <td>0</td>\n",
       "      <td>599</td>\n",
       "      <td>0</td>\n",
       "      <td>0</td>\n",
       "      <td>0</td>\n",
       "      <td>23</td>\n",
       "      <td>5</td>\n",
       "      <td>464</td>\n",
       "      <td>1</td>\n",
       "      <td>-1</td>\n",
       "      <td>0</td>\n",
       "      <td>3</td>\n",
       "    </tr>\n",
       "    <tr>\n",
       "      <th>2</th>\n",
       "      <td>51</td>\n",
       "      <td>6</td>\n",
       "      <td>2</td>\n",
       "      <td>2</td>\n",
       "      <td>0</td>\n",
       "      <td>400</td>\n",
       "      <td>0</td>\n",
       "      <td>1</td>\n",
       "      <td>0</td>\n",
       "      <td>27</td>\n",
       "      <td>8</td>\n",
       "      <td>200</td>\n",
       "      <td>1</td>\n",
       "      <td>-1</td>\n",
       "      <td>0</td>\n",
       "      <td>3</td>\n",
       "    </tr>\n",
       "    <tr>\n",
       "      <th>3</th>\n",
       "      <td>33</td>\n",
       "      <td>9</td>\n",
       "      <td>1</td>\n",
       "      <td>1</td>\n",
       "      <td>0</td>\n",
       "      <td>488</td>\n",
       "      <td>1</td>\n",
       "      <td>0</td>\n",
       "      <td>2</td>\n",
       "      <td>8</td>\n",
       "      <td>8</td>\n",
       "      <td>703</td>\n",
       "      <td>1</td>\n",
       "      <td>-1</td>\n",
       "      <td>0</td>\n",
       "      <td>3</td>\n",
       "    </tr>\n",
       "    <tr>\n",
       "      <th>4</th>\n",
       "      <td>34</td>\n",
       "      <td>0</td>\n",
       "      <td>1</td>\n",
       "      <td>1</td>\n",
       "      <td>0</td>\n",
       "      <td>40</td>\n",
       "      <td>1</td>\n",
       "      <td>0</td>\n",
       "      <td>1</td>\n",
       "      <td>5</td>\n",
       "      <td>8</td>\n",
       "      <td>125</td>\n",
       "      <td>2</td>\n",
       "      <td>-1</td>\n",
       "      <td>0</td>\n",
       "      <td>3</td>\n",
       "    </tr>\n",
       "  </tbody>\n",
       "</table>\n",
       "</div>"
      ],
      "text/plain": [
       "   age  job  marital  education  default  balance  housing  loan  contact  \\\n",
       "0   31    1        2          1        1      477        0     0        0   \n",
       "1   49    1        1          0        0      599        0     0        0   \n",
       "2   51    6        2          2        0      400        0     1        0   \n",
       "3   33    9        1          1        0      488        1     0        2   \n",
       "4   34    0        1          1        0       40        1     0        1   \n",
       "\n",
       "   day  month  duration  campaign  pdays  previous  poutcome  \n",
       "0   20      9       426         2    189         6         0  \n",
       "1   23      5       464         1     -1         0         3  \n",
       "2   27      8       200         1     -1         0         3  \n",
       "3    8      8       703         1     -1         0         3  \n",
       "4    5      8       125         2     -1         0         3  "
      ]
     },
     "execution_count": 95,
     "metadata": {},
     "output_type": "execute_result"
    }
   ],
   "source": [
    "test.head()"
   ]
  },
  {
   "cell_type": "code",
   "execution_count": 96,
   "metadata": {
    "execution": {
     "iopub.execute_input": "2022-10-09T23:59:33.786817Z",
     "iopub.status.busy": "2022-10-09T23:59:33.785751Z",
     "iopub.status.idle": "2022-10-09T23:59:33.800290Z",
     "shell.execute_reply": "2022-10-09T23:59:33.799180Z",
     "shell.execute_reply.started": "2022-10-09T23:59:33.786760Z"
    }
   },
   "outputs": [],
   "source": [
    "result=model.predict(test)"
   ]
  },
  {
   "cell_type": "code",
   "execution_count": 98,
   "metadata": {
    "execution": {
     "iopub.execute_input": "2022-10-10T00:00:24.201519Z",
     "iopub.status.busy": "2022-10-10T00:00:24.201086Z",
     "iopub.status.idle": "2022-10-10T00:00:24.207123Z",
     "shell.execute_reply": "2022-10-10T00:00:24.206055Z",
     "shell.execute_reply.started": "2022-10-10T00:00:24.201484Z"
    }
   },
   "outputs": [],
   "source": [
    "result=pd.DataFrame(result,columns=['deposit'])"
   ]
  },
  {
   "cell_type": "code",
   "execution_count": 99,
   "metadata": {
    "execution": {
     "iopub.execute_input": "2022-10-10T00:00:29.980326Z",
     "iopub.status.busy": "2022-10-10T00:00:29.979184Z",
     "iopub.status.idle": "2022-10-10T00:00:29.989195Z",
     "shell.execute_reply": "2022-10-10T00:00:29.988118Z",
     "shell.execute_reply.started": "2022-10-10T00:00:29.980282Z"
    }
   },
   "outputs": [
    {
     "data": {
      "text/html": [
       "<div>\n",
       "<style scoped>\n",
       "    .dataframe tbody tr th:only-of-type {\n",
       "        vertical-align: middle;\n",
       "    }\n",
       "\n",
       "    .dataframe tbody tr th {\n",
       "        vertical-align: top;\n",
       "    }\n",
       "\n",
       "    .dataframe thead th {\n",
       "        text-align: right;\n",
       "    }\n",
       "</style>\n",
       "<table border=\"1\" class=\"dataframe\">\n",
       "  <thead>\n",
       "    <tr style=\"text-align: right;\">\n",
       "      <th></th>\n",
       "      <th>deposit</th>\n",
       "    </tr>\n",
       "  </thead>\n",
       "  <tbody>\n",
       "    <tr>\n",
       "      <th>0</th>\n",
       "      <td>1</td>\n",
       "    </tr>\n",
       "    <tr>\n",
       "      <th>1</th>\n",
       "      <td>1</td>\n",
       "    </tr>\n",
       "    <tr>\n",
       "      <th>2</th>\n",
       "      <td>0</td>\n",
       "    </tr>\n",
       "    <tr>\n",
       "      <th>3</th>\n",
       "      <td>1</td>\n",
       "    </tr>\n",
       "    <tr>\n",
       "      <th>4</th>\n",
       "      <td>0</td>\n",
       "    </tr>\n",
       "  </tbody>\n",
       "</table>\n",
       "</div>"
      ],
      "text/plain": [
       "   deposit\n",
       "0        1\n",
       "1        1\n",
       "2        0\n",
       "3        1\n",
       "4        0"
      ]
     },
     "execution_count": 99,
     "metadata": {},
     "output_type": "execute_result"
    }
   ],
   "source": [
    "result.head()"
   ]
  },
  {
   "cell_type": "code",
   "execution_count": 101,
   "metadata": {
    "execution": {
     "iopub.execute_input": "2022-10-10T00:01:21.713624Z",
     "iopub.status.busy": "2022-10-10T00:01:21.713259Z",
     "iopub.status.idle": "2022-10-10T00:01:21.724026Z",
     "shell.execute_reply": "2022-10-10T00:01:21.722974Z",
     "shell.execute_reply.started": "2022-10-10T00:01:21.713593Z"
    }
   },
   "outputs": [],
   "source": [
    "result.to_csv('result.csv',index=False)"
   ]
  }
 ],
 "metadata": {
  "kernelspec": {
   "display_name": "Python 3 (ipykernel)",
   "language": "python",
   "name": "python3"
  },
  "language_info": {
   "codemirror_mode": {
    "name": "ipython",
    "version": 3
   },
   "file_extension": ".py",
   "mimetype": "text/x-python",
   "name": "python",
   "nbconvert_exporter": "python",
   "pygments_lexer": "ipython3",
   "version": "3.10.6"
  }
 },
 "nbformat": 4,
 "nbformat_minor": 4
}
